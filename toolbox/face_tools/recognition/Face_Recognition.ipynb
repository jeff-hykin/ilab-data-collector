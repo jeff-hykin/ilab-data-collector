{
 "cells": [
  {
   "cell_type": "code",
   "execution_count": 1,
   "metadata": {},
   "outputs": [],
   "source": [
    "import numpy as np\n",
    "import scipy as sp\n",
    "import cv2\n",
    "import os\n",
    "import glob\n",
    "import pickle\n",
    "import MTCNN as mtcnn\n",
    "import GenFeature as genfeat\n",
    "import scipy\n",
    "import time\n",
    "from time import sleep\n",
    "feature_file = np.load(\"feature_file.npz\")\n",
    "UNKNOWN_LABEL = \"Unknown\"\n",
    "THRESHOLD = 0.5"
   ]
  },
  {
   "cell_type": "code",
   "execution_count": 2,
   "metadata": {},
   "outputs": [],
   "source": [
    "def draw_label(image, point, label, emotion, font=cv2.FONT_HERSHEY_SIMPLEX,\n",
    "                   font_scale=1, thickness=2):\n",
    "        size = cv2.getTextSize(label, font, font_scale, thickness)[0]\n",
    "        x, y = point\n",
    "        cv2.rectangle(image, (x, y - size[1]), (x + size[0], y), (255, 0, 0), -1)\n",
    "        cv2.putText(image, label, point, font, font_scale, (255, 255, 255), thickness)\n",
    "        cv2.putText(image, emotion, (point[0], point[1]+20), font, font_scale, (255, 255, 255), thickness)\n",
    "\n",
    "label_array = []\n",
    "feature_array = []\n",
    "for key in feature_file:\n",
    "    label_array.append(key)\n",
    "    feature_array.append(feature_file[key])\n",
    "\n",
    "def get_label(feature):\n",
    "    distance = float(\"inf\")\n",
    "    label = None\n",
    "\n",
    "    dist = scipy.spatial.distance.cdist(feature.reshape((1, feature.size)), np.array(feature_array), 'cosine')\n",
    "    closest_index = np.argmin(dist)\n",
    "    distance, label = dist[0][closest_index], label_array[closest_index] \n",
    "\n",
    "    return label if distance < THRESHOLD else UNKNOWN_LABEL \n",
    "\n",
    "\n",
    "def get_margins(face_margin, margin=1):\n",
    "    (x, y, w, h) = face_margin[0], face_margin[1], face_margin[2] - face_margin[0], face_margin[3] - face_margin[1]\n",
    "    margin = int(min(w, h) * margin / 100)\n",
    "    x_a = int(x - margin)\n",
    "    y_a = int(y - margin)\n",
    "    x_b = int(x + w + margin)\n",
    "    y_b = int(y + h + margin)\n",
    "    return (x_a, y_a, x_b - x_a, y_b - y_a)\n",
    "\n",
    "\n",
    "def face_recon(video_file):\n",
    "    #video_capture = cv2.VideoCapture('20190610_221401.avi')\n",
    "    video_capture = cv2.VideoCapture(video_file)\n",
    "    while (video_capture.isOpened()):\n",
    "        if not video_capture.isOpened():\n",
    "            sleep(5)\n",
    "        # Capture frame-by-frame\n",
    "        ret, frame = video_capture.read()\n",
    "        if (ret != True):\n",
    "              break\n",
    "        #if (i == 14):\n",
    "        original_frame = frame.copy()\n",
    "        _, boundingboxes, features, emotion = mtcnn.process_image(frame)\n",
    "\n",
    "        # placeholder for cropped faces\n",
    "        for i in range(boundingboxes.shape[0]):\n",
    "            (x, y, w, h) = get_margins(boundingboxes[i, 0:4])\n",
    "            label = get_label(features[i]) if i < len(features) else UNKNOWN_LABEL\n",
    "            #print len(features), i\n",
    "            cv2.rectangle(frame, (x, y), (x + w, y + h), (255, 200, 0), 2)\n",
    "            #label = \"{}\".format(label)\n",
    "            #draw_label(frame, (x,y), \"{}{}\".format(label, emotion))\n",
    "            draw_label(frame, (x,y), label, emotion)\n",
    "    \n",
    "        cv2.imshow('Face Detection', frame)\n",
    "        if cv2.waitKey(1) & 0xFF == ord('q'):  # ESC key press\n",
    "            break\n",
    "    # When everything is done, release the capture\n",
    "    video_capture.release()\n",
    "    cv2.destroyAllWindows()\n",
    "    return label, original_frame\n",
    "\n",
    "\n",
    "#if __name__ == \"__main__\":\n",
    "    #face_recon()\n"
   ]
  },
  {
   "cell_type": "code",
   "execution_count": 3,
   "metadata": {},
   "outputs": [],
   "source": [
    "label,image = face_recon('video1.mp4')"
   ]
  },
  {
   "cell_type": "code",
   "execution_count": null,
   "metadata": {},
   "outputs": [],
   "source": [
    "label"
   ]
  },
  {
   "cell_type": "markdown",
   "metadata": {},
   "source": [
    "## If label is \"Unknown\" type the desired name in the variable \"userName\""
   ]
  },
  {
   "cell_type": "code",
   "execution_count": null,
   "metadata": {},
   "outputs": [],
   "source": [
    "\n",
    "userName = \"taylor\""
   ]
  },
  {
   "cell_type": "markdown",
   "metadata": {},
   "source": [
    "## Save the  image with desired name and generate features and store them"
   ]
  },
  {
   "cell_type": "code",
   "execution_count": null,
   "metadata": {},
   "outputs": [],
   "source": [
    "if ((label == \"Unknown\")):\n",
    "    cv2.imwrite(\"/home/jug.971990/Ramakrishna/data_collection/userdata/userimages/\"+userName+\".jpg\", image)\n",
    "    genfeat.generate_features()"
   ]
  },
  {
   "cell_type": "code",
   "execution_count": null,
   "metadata": {},
   "outputs": [],
   "source": []
  }
 ],
 "metadata": {
  "kernelspec": {
   "display_name": "Python 3",
   "language": "python",
   "name": "python3"
  },
  "language_info": {
   "codemirror_mode": {
    "name": "ipython",
    "version": 3
   },
   "file_extension": ".py",
   "mimetype": "text/x-python",
   "name": "python",
   "nbconvert_exporter": "python",
   "pygments_lexer": "ipython3",
   "version": "3.6.6"
  }
 },
 "nbformat": 4,
 "nbformat_minor": 2
}
